{
 "cells": [
  {
   "cell_type": "markdown",
   "metadata": {},
   "source": [
    "# Machine Translation"
   ]
  },
  {
   "cell_type": "markdown",
   "metadata": {},
   "source": [
    "### Dowloading and Saving Model."
   ]
  },
  {
   "cell_type": "code",
   "execution_count": null,
   "metadata": {},
   "outputs": [],
   "source": [
    "from transformers import AutoTokenizer, AutoModelForSeq2SeqLM\n",
    "\n",
    "model_name = \"facebook/nllb-200-distilled-1.3B\"\n",
    "save_directory = \"./nllb-200-distilled-1.3B\"\n",
    "\n",
    "# Load the tokenizer and model\n",
    "tokenizer = AutoTokenizer.from_pretrained(model_name)\n",
    "model = AutoModelForSeq2SeqLM.from_pretrained(model_name)\n",
    "\n",
    "# Save the tokenizer and model locally\n",
    "tokenizer.save_pretrained(save_directory)\n",
    "model.save_pretrained(save_directory)\n",
    "\n",
    "print(f\"Model and tokenizer saved to {save_directory}\")\n"
   ]
  },
  {
   "cell_type": "markdown",
   "metadata": {},
   "source": [
    "### Translation Frame Work."
   ]
  },
  {
   "cell_type": "markdown",
   "metadata": {},
   "source": [
    "### For longer texts"
   ]
  },
  {
   "cell_type": "code",
   "execution_count": 26,
   "metadata": {},
   "outputs": [
    {
     "name": "stdout",
     "output_type": "stream",
     "text": [
      "Using device: cuda\n"
     ]
    },
    {
     "name": "stderr",
     "output_type": "stream",
     "text": [
      "/opt/progs/miniconda3/envs/ainewstorch/lib/python3.9/site-packages/huggingface_hub/file_download.py:1132: FutureWarning: `resume_download` is deprecated and will be removed in version 1.0.0. Downloads always resume when possible. If you want to force a new download, use `force_download=True`.\n",
      "  warnings.warn(\n"
     ]
    }
   ],
   "source": [
    "import torch\n",
    "from transformers import AutoTokenizer, AutoModelForSeq2SeqLM\n",
    "\n",
    "device = torch.device(\"cuda\" if torch.cuda.is_available() else \"cpu\")\n",
    "print(f\"Using device: {device}\")\n",
    "\n",
    "\n",
    "# Define the path to the model\n",
    "model_id = \"facebook/nllb-200-distilled-1.3B\"\n",
    "local_model_path = model_id\n",
    "\n",
    "# Load the tokenizer and model from the local directory\n",
    "tokenizer = AutoTokenizer.from_pretrained(local_model_path)\n",
    "model = AutoModelForSeq2SeqLM.from_pretrained(local_model_path).to(device)"
   ]
  },
  {
   "cell_type": "code",
   "execution_count": 38,
   "metadata": {},
   "outputs": [],
   "source": [
    "def split_text(text, max_length):\n",
    "    words = text.split()\n",
    "    chunks = []\n",
    "    current_chunk = []\n",
    "    current_length = 0\n",
    "\n",
    "    for word in words:\n",
    "        if current_length + len(word) + 1 <= max_length:\n",
    "            current_chunk.append(word)\n",
    "            current_length += len(word) + 1\n",
    "        else:\n",
    "            chunks.append(\" \".join(current_chunk))\n",
    "            current_chunk = [word]\n",
    "            current_length = len(word) + 1\n",
    "\n",
    "    if current_chunk:\n",
    "        chunks.append(\" \".join(current_chunk))\n",
    "\n",
    "    return chunks\n",
    "\n",
    "def translate_text(text, src_lang, tgt_lang, max_length=512):\n",
    "    chunks = split_text(text, max_length)\n",
    "    translated_chunks = []\n",
    "\n",
    "    for chunk in chunks:\n",
    "        inputs = tokenizer(chunk, return_tensors=\"pt\", truncation=True, padding=\"longest\").to(device)\n",
    "        translated_tokens = model.generate(\n",
    "            inputs[\"input_ids\"],\n",
    "            forced_bos_token_id=tokenizer.lang_code_to_id[tgt_lang],\n",
    "            num_beams=4,\n",
    "            early_stopping=True\n",
    "        )\n",
    "        translated_text = tokenizer.decode(translated_tokens[0], skip_special_tokens=True)\n",
    "        translated_chunks.append(translated_text)\n",
    "\n",
    "    full_translated_text = \" \".join(translated_chunks)\n",
    "\n",
    "    return full_translated_text"
   ]
  },
  {
   "cell_type": "code",
   "execution_count": 39,
   "metadata": {},
   "outputs": [
    {
     "name": "stdout",
     "output_type": "stream",
     "text": [
      "511\n"
     ]
    }
   ],
   "source": [
    "# Language usage - https://github.com/facebookresearch/flores/tree/main/flores200#languages-in-flores-200\n",
    "src_text = \"\"\" \n",
    "\"Atomic Habits\" by James Clear is a self-help book that offers a comprehensive guide to building good habits and \n",
    "breaking bad ones, providing actionable strategies and techniques to help readers create lasting changes in their lives. \n",
    "The book introduces the concept of \"atomic habits,\" which refers to small habits that, when practiced consistently, can lead \n",
    "to significant improvements in our lives, emphasizing that small changes can add up over time, much like the way atoms combine\n",
    "to form molecules. Clear illustrates the concept of the \"aggregation of marginal gains\" using the example of the British cycling \n",
    "team, which dominated the Tour de France by making small improvements in nutrition, training, and equipment, and applies this \n",
    "concept to habit formation, where small, incremental changes can lead to significant gains over time. The book outlines the 4 Laws \n",
    "of Behavior Change, which are: make it obvious, make it attractive, make it easy, and make it satisfying, and provides strategies \n",
    "for building good habits, such as starting small, creating an implementation intention, using visual cues, and celebrating milestones.\n",
    " Clear also provides strategies for breaking bad habits, including reframing your identity, finding alternative behaviors, and \n",
    " using the 4 Laws of Behavior Change to reverse engineer the bad habit. He emphasizes the importance of tracking progress, being \n",
    " patient, and staying consistent in order to achieve success, and provides examples of how small changes can lead to significant \n",
    " improvements in various areas of life, such as fitness, productivity, and relationships. The book also explores the role of \n",
    " identity and motivation in shaping our habits, and provides strategies for creating an environment that supports good habits, \n",
    " such as eliminating distractions, creating a schedule, and using implementation intentions. Clear also discusses the importance \n",
    " of community and accountability in maintaining good habits, and provides strategies for overcoming obstacles and setbacks, such \n",
    " as using the \"2-minute rule\" and creating a \"habit scorecard.\" Throughout the book, Clear draws on a wide range of sources, \n",
    " including psychology, neuroscience, and real-life examples, to provide a comprehensive and accessible guide to building good \n",
    " habits and breaking bad ones. By applying the strategies and techniques outlined in the book, readers can create lasting changes \n",
    " in their lives and achieve their goals, and the book provides a valuable resource for anyone looking to improve their habits and \n",
    " achieve success. The book is divided into four main sections, the first section focuses on the fundamentals of habits, the second \n",
    " section focuses on how to build good habits, the third section focuses on how to break bad habits, and the fourth section focuses\n",
    "on how to create an environment that supports good habits. Each section is filled with actionable strategies and techniques that \n",
    "readers can apply to their own lives, and the book provides a comprehensive and accessible guide to building good habits and \n",
    "breaking bad ones. Overall, \"Atomic Habits\" is a valuable resource for anyone looking to improve their habits and achieve success,\n",
    "and provides a comprehensive and accessible guide to building good habits and breaking bad ones.\n",
    "\"\"\"\n",
    "print(len(src_text.split(\" \")))"
   ]
  },
  {
   "cell_type": "code",
   "execution_count": 40,
   "metadata": {},
   "outputs": [
    {
     "name": "stdout",
     "output_type": "stream",
     "text": [
      "Translated Text: జేమ్స్ క్లీర్ రాసిన \"అటామిక్ హబిట్స్\" అనేది మంచి అలవాట్లను నిర్మించడానికి మరియు చెడు అలవాట్లను విచ్ఛిన్నం చేయడానికి సమగ్ర మార్గదర్శిని అందించే స్వయం సహాయక పుస్తకం, పాఠకులకు వారి జీవితాల్లో శాశ్వత మార్పులను సృష్టించడానికి సహాయపడే చర్య తీసుకోగల వ్యూహాలు మరియు పద్ధతులను అందిస్తుంది. ఈ పుస్తకం \"అటామిక్ అలవాట్లు\" అనే భావనను పరిచయం చేస్తుంది, ఇది నిరంతరం సాధించినప్పుడు మన జీవితాల్లో గణనీయమైన మెరుగుదలలకు దారితీసే చిన్న అలవాట్లను సూచిస్తుంది, అణువులు అణువులను ఏర్పరచడానికి మిళితమైన విధంగానే చిన్న మార్పులు కాలక్రమేణా జోడించవచ్చని నొక్కి చెబుతుంది. పోషకాహారం, శిక్షణ మరియు పరికరాలలో చిన్న మెరుగుదలలు చేయడం ద్వారా టూర్ డి ఫ్రాన్స్లో ఆధిపత్యం చెలాయించిన బ్రిటిష్ సైక్లింగ్ జట్టు ఉదాహరణను ఉపయోగించి \"పరిమితి లాభాల కలయిక\" అనే భావనను వివరిస్తుంది మరియు ఈ భావనను అలవాటు ఏర్పడటానికి వర్తిస్తుంది, ఇక్కడ చిన్న, ఇంక్రిమెంటల్ మార్పులు కాలక్రమేణా గణనీయమైన లాభాలకు దారితీస్తాయి. చిన్నదిగా ప్రారంభించడం, అమలు ఉద్దేశాన్ని సృష్టించడం, దృశ్యమాన సూచనలను ఉపయోగించడం మరియు మైలురాళ్లను జరుపుకోవడం వంటి అలవాట్లను స్పష్టం చేస్తుంది. మీ గుర్తింపును పునర్నిర్మించడం, ప్రత్యామ్నాయ ప్రవర్తనలను కనుగొనడం మరియు చెడు అలవాటును రివర్స్ ఇంజనీరింగ్ చేయడానికి ప్రవర్తన మార్పు యొక్క 4 చట్టాలను ఉపయోగించడం వంటి చెడు అలవాట్లను విచ్ఛిన్నం చేయడానికి వ్యూహాలను కూడా స్పష్టం చేస్తుంది. విజయాన్ని సాధించడానికి పురోగతిని ట్రాక్ చేయడం, ఓపికపట్టడం మరియు స్థిరంగా ఉండటం యొక్క ప్రాముఖ్యతను అతను నొక్కి చెబుతాడు మరియు చిన్న మార్పులు గణనీయమైన మెరుగుదలలకు ఎలా దారితీస్తాయో ఉదాహరణలు అందిస్తుంది. ఫిట్నెస్, ఉత్పాదకత మరియు సంబంధాలు వంటి జీవితంలోని వివిధ రంగాలలో. ఈ పుస్తకం మన అలవాట్లను రూపొందించడంలో గుర్తింపు మరియు ప్రేరణ యొక్క పాత్రను కూడా అన్వేషిస్తుంది మరియు పరధ్యానాన్ని తొలగించడం, షెడ్యూల్ను సృష్టించడం మరియు అమలు ఉద్దేశాలను ఉపయోగించడం వంటి మంచి అలవాట్లకు మద్దతు ఇచ్చే వాతావరణాన్ని సృష్టించడానికి వ్యూహాలను అందిస్తుంది. మంచి అలవాట్లను నిర్వహించడంలో సంఘం మరియు జవాబుదారీతనం యొక్క ప్రాముఖ్యతను క్లియర్ కూడా చర్చిస్తుంది మరియు అడ్డంకులు మరియు ఎదురుదెబ్బలను అధిగమించడానికి వ్యూహాలను అందిస్తుంది. \"2-నిమిషాల నియమం\" మరియు \"ఆచారం స్కోర్ కార్డ్\" ను సృష్టించడం. పుస్తకంలో, మంచి అలవాట్లను నిర్మించడానికి మరియు చెడు అలవాట్లను విచ్ఛిన్నం చేయడానికి సమగ్రమైన మరియు ప్రాప్యత చేయగల మార్గదర్శిని అందించడానికి మనస్తత్వశాస్త్రం, న్యూరోసైన్స్ మరియు నిజ జీవిత ఉదాహరణలతో సహా విస్తృత శ్రేణి వనరులపై క్లియర్ ఆధారపడుతుంది. పుస్తకంలో వివరించిన వ్యూహాలు మరియు పద్ధతులను వర్తింపజేయడం ద్వారా, పాఠకులు వారి జీవితాల్లో శాశ్వత మార్పులను సృష్టించవచ్చు మరియు వారి లక్ష్యాలను సాధించవచ్చు మరియు పుస్తకం వారి అలవాట్లను మెరుగుపరచడానికి మరియు విజయాన్ని సాధించడానికి చూస్తున్న ఎవరికైనా విలువైన వనరును అందిస్తుంది. ఈ పుస్తకం నాలుగు ప్రధాన విభాగాలుగా విభజించబడింది, మొదటి విభాగం అలవాట్ల పునాదులపై దృష్టి పెడుతుంది, రెండవ విభాగం మంచి అలవాట్లను ఎలా నిర్మించాలో దృష్టి పెడుతుంది, మూడవ విభాగం చెడు అలవాట్లను ఎలా విచ్ఛిన్నం చేయాలో దృష్టి పెడుతుంది మరియు నాల్గవ విభాగం మంచి అలవాట్లను ప్రోత్సహించే వాతావరణాన్ని ఎలా సృష్టించాలో దృష్టి పెడుతుంది. ప్రతి విభాగం పాఠకులు తమ జీవితాలకు వర్తింపజేయగల ఉపయోగకరమైన వ్యూహాలు మరియు పద్ధతులతో నిండి ఉంది మరియు మంచి అలవాట్లను నిర్మించడానికి మరియు చెడు అలవాట్లను విచ్ఛిన్నం చేయడానికి పుస్తకం సమగ్రమైన మరియు ప్రాప్యత గల మార్గదర్శిని అందిస్తుంది. మొత్తంమీద, \"అటామిక్ హబిట్స్\" అనేది వారి అలవాట్లను మెరుగుపరచడానికి మరియు విజయం సాధించడానికి చూస్తున్న ఎవరికైనా విలువైన వనరు, మరియు మంచి అలవాట్లను నిర్మించడానికి మరియు చెడు అలవాట్లను విచ్ఛిన్నం చేయడానికి సమగ్రమైన మరియు ప్రాప్యత చేయగల మార్గదర్శిని అందిస్తుంది.\n"
     ]
    }
   ],
   "source": [
    "src_lang = \"eng_Latn\"\n",
    "tgt_lang = \"tel_Telu\" #\"hin_Deva\"\n",
    "\n",
    "translated_text = translate_text(src_text, src_lang, tgt_lang)\n",
    "print(\"Translated Text:\", translated_text)"
   ]
  },
  {
   "cell_type": "code",
   "execution_count": 41,
   "metadata": {},
   "outputs": [
    {
     "name": "stdout",
     "output_type": "stream",
     "text": [
      "Model has been removed from the device and memory is freed.\n"
     ]
    }
   ],
   "source": [
    "import gc\n",
    "del model\n",
    "gc.collect()\n",
    "print(\"Model has been removed from the device and memory is freed.\")"
   ]
  },
  {
   "cell_type": "code",
   "execution_count": null,
   "metadata": {},
   "outputs": [],
   "source": []
  }
 ],
 "metadata": {
  "kernelspec": {
   "display_name": "ainews",
   "language": "python",
   "name": "python3"
  },
  "language_info": {
   "codemirror_mode": {
    "name": "ipython",
    "version": 3
   },
   "file_extension": ".py",
   "mimetype": "text/x-python",
   "name": "python",
   "nbconvert_exporter": "python",
   "pygments_lexer": "ipython3",
   "version": "3.9.19"
  }
 },
 "nbformat": 4,
 "nbformat_minor": 2
}
