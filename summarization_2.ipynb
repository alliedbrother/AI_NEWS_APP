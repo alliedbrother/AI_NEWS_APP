{
 "cells": [
  {
   "cell_type": "markdown",
   "metadata": {},
   "source": [
    "# Summarization Frame Work."
   ]
  },
  {
   "cell_type": "markdown",
   "metadata": {},
   "source": [
    "### Dowloading and Saving the model"
   ]
  },
  {
   "cell_type": "code",
   "execution_count": null,
   "metadata": {},
   "outputs": [],
   "source": [
    "from transformers import AutoTokenizer, AutoModelForSeq2SeqLM\n",
    "\n",
    "model_name = \"facebook/bart-large-cnn\"\n",
    "save_directory = \"./bart-large-cnn\"\n",
    "\n",
    "# Load the tokenizer and model\n",
    "tokenizer = AutoTokenizer.from_pretrained(model_name)\n",
    "model = AutoModelForSeq2SeqLM.from_pretrained(model_name)\n",
    "\n",
    "# Save the tokenizer and model locally\n",
    "tokenizer.save_pretrained(save_directory)\n",
    "model.save_pretrained(save_directory)\n",
    "\n",
    "print(f\"Model and tokenizer saved to {save_directory}\")"
   ]
  },
  {
   "cell_type": "markdown",
   "metadata": {},
   "source": [
    "### Summarization"
   ]
  },
  {
   "cell_type": "code",
   "execution_count": 1,
   "metadata": {},
   "outputs": [
    {
     "name": "stderr",
     "output_type": "stream",
     "text": [
      "/opt/progs/miniconda3/envs/ainewstorch/lib/python3.9/site-packages/tqdm/auto.py:21: TqdmWarning: IProgress not found. Please update jupyter and ipywidgets. See https://ipywidgets.readthedocs.io/en/stable/user_install.html\n",
      "  from .autonotebook import tqdm as notebook_tqdm\n"
     ]
    }
   ],
   "source": [
    "import torch\n",
    "import numpy as np\n",
    "import pandas as pd\n",
    "import sklearn\n",
    "from transformers import AutoTokenizer, AutoModelForSeq2SeqLM"
   ]
  },
  {
   "cell_type": "code",
   "execution_count": 26,
   "metadata": {},
   "outputs": [],
   "source": [
    "save_directory = \"./bart-large-cnn\"\n",
    "tokenizer = AutoTokenizer.from_pretrained(save_directory)\n",
    "model = AutoModelForSeq2SeqLM.from_pretrained(save_directory)"
   ]
  },
  {
   "cell_type": "code",
   "execution_count": 41,
   "metadata": {},
   "outputs": [],
   "source": [
    "def summarizer(text, max_length=150, min_length=40):\n",
    "    \n",
    "    inputs = tokenizer.encode(\"summarize: \" + text, return_tensors=\"pt\", truncation=True)\n",
    "    #print(\"Input Text Is:\")\n",
    "    #print(tokenizer.decode(inputs[0], skip_special_tokens=True))\n",
    "    summary_ids = model.generate(inputs, min_length=min_length, length_penalty=2.0, num_beams=4, early_stopping=True)\n",
    "    summary = tokenizer.decode(summary_ids[0], skip_special_tokens=True)\n",
    "\n",
    "    return summary"
   ]
  },
  {
   "cell_type": "code",
   "execution_count": 38,
   "metadata": {},
   "outputs": [
    {
     "name": "stdout",
     "output_type": "stream",
     "text": [
      "216\n"
     ]
    }
   ],
   "source": [
    "src_text = \"\"\"\n",
    "\"Atomic Habits\" by James Clear is a self-help book that offers a comprehensive guide to building good habits and \n",
    "breaking bad ones. The book introduces the concept of \"atomic habits,\" which refers to small habits that, when practiced \n",
    "consistently, can lead to significant improvements in our lives. Clear explains that small changes can add up over time, \n",
    "much like the way atoms combine to form molecules, and emphasizes that it's the small, incremental changes that can lead to \n",
    "lasting results, rather than trying to make drastic changes all at once. He outlines the 4 Laws of Behavior Change - make it \n",
    "obvious, make it attractive, make it easy, and make it satisfying - and the 4 stages of habit formation - cue, craving, \n",
    "response, and reward. The book provides strategies for building good habits, such as starting small, creating an implementation \n",
    "intention, using visual cues, and celebrating milestones, as well as strategies for breaking bad habits, including reframing your \n",
    "identity, finding alternative behaviors, and using the 4 Laws of Behavior Change to reverse engineer the bad habit. By \n",
    "applying these strategies and techniques, readers can create lasting changes in their lives and make progress towards their goals, \n",
    "and the book emphasizes the importance of tracking progress, being patient, and staying consistent in order to achieve success.\n",
    "\"\"\"\n",
    "print(len(src_text.split(\" \")))"
   ]
  },
  {
   "cell_type": "code",
   "execution_count": null,
   "metadata": {},
   "outputs": [],
   "source": [
    "summarized_text = summarizer(long_text)\n",
    "print(summarized_text)\n",
    "print(len(summarized_text.split(\" \")))"
   ]
  },
  {
   "cell_type": "markdown",
   "metadata": {},
   "source": [
    "### For long texts"
   ]
  },
  {
   "cell_type": "code",
   "execution_count": 16,
   "metadata": {},
   "outputs": [
    {
     "name": "stdout",
     "output_type": "stream",
     "text": [
      "Using device: cuda\n"
     ]
    }
   ],
   "source": [
    "import torch\n",
    "import numpy as np\n",
    "import pandas as pd\n",
    "import sklearn\n",
    "import math\n",
    "from transformers import BartTokenizer, BartForConditionalGeneration\n",
    "\n",
    "device = torch.device(\"cuda\" if torch.cuda.is_available() else \"cpu\")\n",
    "print(f\"Using device: {device}\")\n",
    "\n",
    "\n",
    "# Define the path to the model\n",
    "model_id = \"./bart-large-cnn\"\n",
    "local_model_path = model_id\n",
    "\n",
    "# Load the tokenizer and model from the local directory\n",
    "tokenizer = BartTokenizer.from_pretrained(local_model_path)\n",
    "model = BartForConditionalGeneration.from_pretrained(local_model_path).to(device)"
   ]
  },
  {
   "cell_type": "code",
   "execution_count": null,
   "metadata": {},
   "outputs": [],
   "source": [
    "def summarize_text(text, max_length=150, min_length=40):\n",
    "    inputs = tokenizer.encode(\"summarize: \" + text, return_tensors=\"pt\", max_length=1024, truncation=True).to(device)\n",
    "    summary_ids = model.generate(inputs, max_length=max_length, min_length=min_length, length_penalty=2.0, num_beams=4, early_stopping=True)\n",
    "    summary = tokenizer.decode(summary_ids[0], skip_special_tokens=True)\n",
    "    return summary\n",
    "\n",
    "def chunk_text(text, max_tokens=1024):\n",
    "    tokens = tokenizer.encode(text, return_tensors=\"pt\")[0]\n",
    "    chunks = []\n",
    "    for i in range(0, len(tokens), max_tokens):\n",
    "        chunk = tokens[i:i + max_tokens]\n",
    "        chunks.append(tokenizer.decode(chunk))\n",
    "    return chunks\n",
    "\n",
    "def iterative_summarization(text, target_word_count=100):\n",
    "    while True:\n",
    "        chunks = chunk_text(text)\n",
    "        summaries = [summarize_text(chunk) for chunk in chunks]\n",
    "        combined_summary = \" \".join(summaries)\n",
    "        \n",
    "        word_count = len(combined_summary.split())\n",
    "        if word_count <= target_word_count:\n",
    "            return combined_summary\n",
    "        \n",
    "        text = combined_summary"
   ]
  },
  {
   "cell_type": "code",
   "execution_count": 29,
   "metadata": {},
   "outputs": [
    {
     "name": "stdout",
     "output_type": "stream",
     "text": [
      "510\n"
     ]
    }
   ],
   "source": [
    "# Sample text to summarize\n",
    "long_text = \"\"\"\n",
    "\"Atomic Habits\" by James Clear is a self-help book that offers a comprehensive guide to building good habits and \n",
    "breaking bad ones, providing actionable strategies and techniques to help readers create lasting changes in their lives. \n",
    "The book introduces the concept of \"atomic habits,\" which refers to small habits that, when practiced consistently, can lead \n",
    "to significant improvements in our lives, emphasizing that small changes can add up over time, much like the way atoms combine\n",
    "to form molecules. Clear illustrates the concept of the \"aggregation of marginal gains\" using the example of the British cycling \n",
    "team, which dominated the Tour de France by making small improvements in nutrition, training, and equipment, and applies this \n",
    "concept to habit formation, where small, incremental changes can lead to significant gains over time. The book outlines the 4 Laws \n",
    "of Behavior Change, which are: make it obvious, make it attractive, make it easy, and make it satisfying, and provides strategies \n",
    "for building good habits, such as starting small, creating an implementation intention, using visual cues, and celebrating milestones.\n",
    " Clear also provides strategies for breaking bad habits, including reframing your identity, finding alternative behaviors, and \n",
    " using the 4 Laws of Behavior Change to reverse engineer the bad habit. He emphasizes the importance of tracking progress, being \n",
    " patient, and staying consistent in order to achieve success, and provides examples of how small changes can lead to significant \n",
    " improvements in various areas of life, such as fitness, productivity, and relationships. The book also explores the role of \n",
    " identity and motivation in shaping our habits, and provides strategies for creating an environment that supports good habits, \n",
    " such as eliminating distractions, creating a schedule, and using implementation intentions. Clear also discusses the importance \n",
    " of community and accountability in maintaining good habits, and provides strategies for overcoming obstacles and setbacks, such \n",
    " as using the \"2-minute rule\" and creating a \"habit scorecard.\" Throughout the book, Clear draws on a wide range of sources, \n",
    " including psychology, neuroscience, and real-life examples, to provide a comprehensive and accessible guide to building good \n",
    " habits and breaking bad ones. By applying the strategies and techniques outlined in the book, readers can create lasting changes \n",
    " in their lives and achieve their goals, and the book provides a valuable resource for anyone looking to improve their habits and \n",
    " achieve success. The book is divided into four main sections, the first section focuses on the fundamentals of habits, the second \n",
    " section focuses on how to build good habits, the third section focuses on how to break bad habits, and the fourth section focuses\n",
    "on how to create an environment that supports good habits. Each section is filled with actionable strategies and techniques that \n",
    "readers can apply to their own lives, and the book provides a comprehensive and accessible guide to building good habits and \n",
    "breaking bad ones. Overall, \"Atomic Habits\" is a valuable resource for anyone looking to improve their habits and achieve success,\n",
    "and provides a comprehensive and accessible guide to building good habits and breaking bad ones.\n",
    "\"\"\"\n",
    "print(len(long_text.split(\" \")))"
   ]
  },
  {
   "cell_type": "code",
   "execution_count": 24,
   "metadata": {},
   "outputs": [
    {
     "name": "stdout",
     "output_type": "stream",
     "text": [
      "\"Atomic Habits\" by James Clear is a self-help book that offers a comprehensive guide to building good habits and breaking bad ones. The book introduces the concept of \"atomic habits,\" which refers to small habits that, when practiced consistently, can lead to significant improvements in our lives.\n",
      "Length of Summary: 47\n"
     ]
    }
   ],
   "source": [
    "# Get the final summary\n",
    "final_summary = iterative_summarization(long_text, target_word_count=100)\n",
    "print(final_summary)\n",
    "print(\"Length of Summary:\",len(final_summary.split(\" \")))"
   ]
  },
  {
   "cell_type": "code",
   "execution_count": 42,
   "metadata": {},
   "outputs": [
    {
     "ename": "NameError",
     "evalue": "name 'model' is not defined",
     "output_type": "error",
     "traceback": [
      "\u001b[0;31m---------------------------------------------------------------------------\u001b[0m",
      "\u001b[0;31mNameError\u001b[0m                                 Traceback (most recent call last)",
      "Cell \u001b[0;32mIn[42], line 2\u001b[0m\n\u001b[1;32m      1\u001b[0m \u001b[38;5;28;01mimport\u001b[39;00m \u001b[38;5;21;01mgc\u001b[39;00m\n\u001b[0;32m----> 2\u001b[0m \u001b[38;5;28;01mdel\u001b[39;00m model\n\u001b[1;32m      3\u001b[0m gc\u001b[38;5;241m.\u001b[39mcollect()\n\u001b[1;32m      4\u001b[0m \u001b[38;5;28mprint\u001b[39m(\u001b[38;5;124m\"\u001b[39m\u001b[38;5;124mModel has been removed from the device and memory is freed.\u001b[39m\u001b[38;5;124m\"\u001b[39m)\n",
      "\u001b[0;31mNameError\u001b[0m: name 'model' is not defined"
     ]
    }
   ],
   "source": [
    "import gc\n",
    "del model\n",
    "gc.collect()\n",
    "print(\"Model has been removed from the device and memory is freed.\")"
   ]
  },
  {
   "cell_type": "code",
   "execution_count": null,
   "metadata": {},
   "outputs": [],
   "source": []
  }
 ],
 "metadata": {
  "kernelspec": {
   "display_name": "ainews",
   "language": "python",
   "name": "python3"
  },
  "language_info": {
   "codemirror_mode": {
    "name": "ipython",
    "version": 3
   },
   "file_extension": ".py",
   "mimetype": "text/x-python",
   "name": "python",
   "nbconvert_exporter": "python",
   "pygments_lexer": "ipython3",
   "version": "3.9.19"
  }
 },
 "nbformat": 4,
 "nbformat_minor": 2
}
